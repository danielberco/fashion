{
 "cells": [
  {
   "cell_type": "code",
   "execution_count": 65,
   "metadata": {},
   "outputs": [],
   "source": [
    "import pandas as pd\n",
    "import numpy as np\n",
    "import seaborn as sns\n",
    "import matplotlib.pyplot as plt\n",
    "%matplotlib inline\n",
    "\n",
    "from sklearn import metrics\n",
    "from sklearn.metrics import classification_report,confusion_matrix\n",
    "from sklearn.model_selection import cross_val_score, train_test_split, KFold, StratifiedKFold\n",
    "from sklearn.metrics import classification_report, confusion_matrix, accuracy_score\n",
    "from sklearn.neighbors import KNeighborsClassifier\n",
    "\n",
    "from sklearn.ensemble import AdaBoostClassifier\n",
    "from sklearn.linear_model import LogisticRegression\n",
    "from sklearn.ensemble import RandomForestClassifier, RandomForestRegressor\n",
    "\n",
    "import warnings\n",
    "warnings.filterwarnings('ignore')\n",
    "import glob"
   ]
  },
  {
   "cell_type": "markdown",
   "metadata": {},
   "source": [
    "#### First, lets explore the data and see what it contains:"
   ]
  },
  {
   "cell_type": "code",
   "execution_count": 3,
   "metadata": {},
   "outputs": [
    {
     "data": {
      "text/html": [
       "<div>\n",
       "<style scoped>\n",
       "    .dataframe tbody tr th:only-of-type {\n",
       "        vertical-align: middle;\n",
       "    }\n",
       "\n",
       "    .dataframe tbody tr th {\n",
       "        vertical-align: top;\n",
       "    }\n",
       "\n",
       "    .dataframe thead th {\n",
       "        text-align: right;\n",
       "    }\n",
       "</style>\n",
       "<table border=\"1\" class=\"dataframe\">\n",
       "  <thead>\n",
       "    <tr style=\"text-align: right;\">\n",
       "      <th></th>\n",
       "      <th>Time</th>\n",
       "      <th>Frame ID</th>\n",
       "      <th>Hand Type</th>\n",
       "      <th># hands</th>\n",
       "      <th>Position X</th>\n",
       "      <th>Position Y</th>\n",
       "      <th>Position Z</th>\n",
       "      <th>Velocity X</th>\n",
       "      <th>Velocity Y</th>\n",
       "      <th>Velocity Z</th>\n",
       "      <th>...</th>\n",
       "      <th>Yaw</th>\n",
       "      <th>Wrist Pos X</th>\n",
       "      <th>Wrist Pos Y</th>\n",
       "      <th>Wrist Pos Z</th>\n",
       "      <th>Elbow pos X</th>\n",
       "      <th>Elbow Pos Y</th>\n",
       "      <th>Elbow Pos Z</th>\n",
       "      <th>Grab Strenth</th>\n",
       "      <th>Grab Angle</th>\n",
       "      <th>Pinch Strength</th>\n",
       "    </tr>\n",
       "  </thead>\n",
       "  <tbody>\n",
       "    <tr>\n",
       "      <th>0</th>\n",
       "      <td>128.2883</td>\n",
       "      <td>15478</td>\n",
       "      <td>right</td>\n",
       "      <td>1</td>\n",
       "      <td>15.67167</td>\n",
       "      <td>226.2064</td>\n",
       "      <td>20.26470</td>\n",
       "      <td>34.266650</td>\n",
       "      <td>-195.214700</td>\n",
       "      <td>-35.043020</td>\n",
       "      <td>...</td>\n",
       "      <td>-0.277800</td>\n",
       "      <td>46.88831</td>\n",
       "      <td>207.3548</td>\n",
       "      <td>86.23589</td>\n",
       "      <td>203.8337</td>\n",
       "      <td>49.33507</td>\n",
       "      <td>237.4553</td>\n",
       "      <td>0.0</td>\n",
       "      <td>0.206389</td>\n",
       "      <td>0.0</td>\n",
       "    </tr>\n",
       "    <tr>\n",
       "      <th>1</th>\n",
       "      <td>128.3048</td>\n",
       "      <td>15480</td>\n",
       "      <td>right</td>\n",
       "      <td>1</td>\n",
       "      <td>16.24119</td>\n",
       "      <td>222.9389</td>\n",
       "      <td>20.11781</td>\n",
       "      <td>36.164430</td>\n",
       "      <td>-180.093900</td>\n",
       "      <td>-4.052799</td>\n",
       "      <td>...</td>\n",
       "      <td>-0.277763</td>\n",
       "      <td>47.54861</td>\n",
       "      <td>205.6568</td>\n",
       "      <td>86.42250</td>\n",
       "      <td>203.9553</td>\n",
       "      <td>47.88272</td>\n",
       "      <td>238.4482</td>\n",
       "      <td>0.0</td>\n",
       "      <td>0.243050</td>\n",
       "      <td>0.0</td>\n",
       "    </tr>\n",
       "    <tr>\n",
       "      <th>2</th>\n",
       "      <td>128.3218</td>\n",
       "      <td>15482</td>\n",
       "      <td>right</td>\n",
       "      <td>1</td>\n",
       "      <td>16.72461</td>\n",
       "      <td>220.9709</td>\n",
       "      <td>19.94972</td>\n",
       "      <td>26.352980</td>\n",
       "      <td>-95.088190</td>\n",
       "      <td>-11.157620</td>\n",
       "      <td>...</td>\n",
       "      <td>-0.278792</td>\n",
       "      <td>48.15030</td>\n",
       "      <td>204.5182</td>\n",
       "      <td>86.35149</td>\n",
       "      <td>204.6231</td>\n",
       "      <td>45.35921</td>\n",
       "      <td>236.8544</td>\n",
       "      <td>0.0</td>\n",
       "      <td>0.281134</td>\n",
       "      <td>0.0</td>\n",
       "    </tr>\n",
       "    <tr>\n",
       "      <th>3</th>\n",
       "      <td>128.3384</td>\n",
       "      <td>15484</td>\n",
       "      <td>right</td>\n",
       "      <td>1</td>\n",
       "      <td>17.09016</td>\n",
       "      <td>219.7124</td>\n",
       "      <td>19.67679</td>\n",
       "      <td>19.468040</td>\n",
       "      <td>-61.755180</td>\n",
       "      <td>-21.303780</td>\n",
       "      <td>...</td>\n",
       "      <td>-0.279768</td>\n",
       "      <td>48.64175</td>\n",
       "      <td>203.9989</td>\n",
       "      <td>86.16056</td>\n",
       "      <td>204.9939</td>\n",
       "      <td>44.18692</td>\n",
       "      <td>236.0927</td>\n",
       "      <td>0.0</td>\n",
       "      <td>0.277691</td>\n",
       "      <td>0.0</td>\n",
       "    </tr>\n",
       "    <tr>\n",
       "      <th>4</th>\n",
       "      <td>128.3551</td>\n",
       "      <td>15486</td>\n",
       "      <td>right</td>\n",
       "      <td>1</td>\n",
       "      <td>17.46017</td>\n",
       "      <td>219.3652</td>\n",
       "      <td>19.13128</td>\n",
       "      <td>21.949640</td>\n",
       "      <td>-8.355943</td>\n",
       "      <td>-35.081790</td>\n",
       "      <td>...</td>\n",
       "      <td>-0.278629</td>\n",
       "      <td>48.93135</td>\n",
       "      <td>203.3777</td>\n",
       "      <td>85.59017</td>\n",
       "      <td>204.5952</td>\n",
       "      <td>42.68003</td>\n",
       "      <td>235.2896</td>\n",
       "      <td>0.0</td>\n",
       "      <td>0.283008</td>\n",
       "      <td>0.0</td>\n",
       "    </tr>\n",
       "    <tr>\n",
       "      <th>5</th>\n",
       "      <td>128.3717</td>\n",
       "      <td>15488</td>\n",
       "      <td>right</td>\n",
       "      <td>1</td>\n",
       "      <td>17.87456</td>\n",
       "      <td>219.0455</td>\n",
       "      <td>18.63423</td>\n",
       "      <td>25.317080</td>\n",
       "      <td>-22.576970</td>\n",
       "      <td>-21.407560</td>\n",
       "      <td>...</td>\n",
       "      <td>-0.273353</td>\n",
       "      <td>48.94892</td>\n",
       "      <td>202.3287</td>\n",
       "      <td>85.07886</td>\n",
       "      <td>202.4586</td>\n",
       "      <td>38.04674</td>\n",
       "      <td>233.1001</td>\n",
       "      <td>0.0</td>\n",
       "      <td>0.281743</td>\n",
       "      <td>0.0</td>\n",
       "    </tr>\n",
       "    <tr>\n",
       "      <th>6</th>\n",
       "      <td>128.3880</td>\n",
       "      <td>15490</td>\n",
       "      <td>right</td>\n",
       "      <td>1</td>\n",
       "      <td>18.20539</td>\n",
       "      <td>218.9510</td>\n",
       "      <td>18.31486</td>\n",
       "      <td>17.508610</td>\n",
       "      <td>2.117375</td>\n",
       "      <td>-17.358420</td>\n",
       "      <td>...</td>\n",
       "      <td>-0.269759</td>\n",
       "      <td>48.99221</td>\n",
       "      <td>201.5448</td>\n",
       "      <td>84.71581</td>\n",
       "      <td>201.0713</td>\n",
       "      <td>35.23038</td>\n",
       "      <td>231.9385</td>\n",
       "      <td>0.0</td>\n",
       "      <td>0.274988</td>\n",
       "      <td>0.0</td>\n",
       "    </tr>\n",
       "    <tr>\n",
       "      <th>7</th>\n",
       "      <td>128.4051</td>\n",
       "      <td>15492</td>\n",
       "      <td>right</td>\n",
       "      <td>1</td>\n",
       "      <td>18.36457</td>\n",
       "      <td>219.3397</td>\n",
       "      <td>17.99068</td>\n",
       "      <td>5.799855</td>\n",
       "      <td>31.370510</td>\n",
       "      <td>-19.817320</td>\n",
       "      <td>...</td>\n",
       "      <td>-0.271675</td>\n",
       "      <td>49.18085</td>\n",
       "      <td>201.1090</td>\n",
       "      <td>84.17529</td>\n",
       "      <td>200.4424</td>\n",
       "      <td>33.57787</td>\n",
       "      <td>230.8575</td>\n",
       "      <td>0.0</td>\n",
       "      <td>0.283662</td>\n",
       "      <td>0.0</td>\n",
       "    </tr>\n",
       "    <tr>\n",
       "      <th>8</th>\n",
       "      <td>128.4214</td>\n",
       "      <td>15494</td>\n",
       "      <td>right</td>\n",
       "      <td>1</td>\n",
       "      <td>18.40552</td>\n",
       "      <td>220.4556</td>\n",
       "      <td>17.57367</td>\n",
       "      <td>0.046715</td>\n",
       "      <td>78.365970</td>\n",
       "      <td>-32.120880</td>\n",
       "      <td>...</td>\n",
       "      <td>-0.277499</td>\n",
       "      <td>49.43836</td>\n",
       "      <td>201.1063</td>\n",
       "      <td>83.36790</td>\n",
       "      <td>199.6805</td>\n",
       "      <td>32.06783</td>\n",
       "      <td>229.3652</td>\n",
       "      <td>0.0</td>\n",
       "      <td>0.305218</td>\n",
       "      <td>0.0</td>\n",
       "    </tr>\n",
       "    <tr>\n",
       "      <th>9</th>\n",
       "      <td>128.4380</td>\n",
       "      <td>15496</td>\n",
       "      <td>right</td>\n",
       "      <td>1</td>\n",
       "      <td>18.29336</td>\n",
       "      <td>222.1953</td>\n",
       "      <td>17.22853</td>\n",
       "      <td>-10.397290</td>\n",
       "      <td>97.658560</td>\n",
       "      <td>-15.440830</td>\n",
       "      <td>...</td>\n",
       "      <td>-0.288245</td>\n",
       "      <td>49.79055</td>\n",
       "      <td>201.8538</td>\n",
       "      <td>82.53721</td>\n",
       "      <td>199.1181</td>\n",
       "      <td>32.01506</td>\n",
       "      <td>228.5434</td>\n",
       "      <td>0.0</td>\n",
       "      <td>0.351661</td>\n",
       "      <td>0.0</td>\n",
       "    </tr>\n",
       "  </tbody>\n",
       "</table>\n",
       "<p>10 rows × 22 columns</p>\n",
       "</div>"
      ],
      "text/plain": [
       "       Time   Frame ID  Hand Type   # hands   Position X   Position Y  \\\n",
       "0  128.2883      15478      right         1     15.67167     226.2064   \n",
       "1  128.3048      15480      right         1     16.24119     222.9389   \n",
       "2  128.3218      15482      right         1     16.72461     220.9709   \n",
       "3  128.3384      15484      right         1     17.09016     219.7124   \n",
       "4  128.3551      15486      right         1     17.46017     219.3652   \n",
       "5  128.3717      15488      right         1     17.87456     219.0455   \n",
       "6  128.3880      15490      right         1     18.20539     218.9510   \n",
       "7  128.4051      15492      right         1     18.36457     219.3397   \n",
       "8  128.4214      15494      right         1     18.40552     220.4556   \n",
       "9  128.4380      15496      right         1     18.29336     222.1953   \n",
       "\n",
       "    Position Z   Velocity X   Velocity Y   Velocity Z  ...       Yaw  \\\n",
       "0     20.26470    34.266650  -195.214700   -35.043020  ... -0.277800   \n",
       "1     20.11781    36.164430  -180.093900    -4.052799  ... -0.277763   \n",
       "2     19.94972    26.352980   -95.088190   -11.157620  ... -0.278792   \n",
       "3     19.67679    19.468040   -61.755180   -21.303780  ... -0.279768   \n",
       "4     19.13128    21.949640    -8.355943   -35.081790  ... -0.278629   \n",
       "5     18.63423    25.317080   -22.576970   -21.407560  ... -0.273353   \n",
       "6     18.31486    17.508610     2.117375   -17.358420  ... -0.269759   \n",
       "7     17.99068     5.799855    31.370510   -19.817320  ... -0.271675   \n",
       "8     17.57367     0.046715    78.365970   -32.120880  ... -0.277499   \n",
       "9     17.22853   -10.397290    97.658560   -15.440830  ... -0.288245   \n",
       "\n",
       "    Wrist Pos X   Wrist Pos Y   Wrist Pos Z   Elbow pos X   Elbow Pos Y  \\\n",
       "0      46.88831      207.3548      86.23589      203.8337      49.33507   \n",
       "1      47.54861      205.6568      86.42250      203.9553      47.88272   \n",
       "2      48.15030      204.5182      86.35149      204.6231      45.35921   \n",
       "3      48.64175      203.9989      86.16056      204.9939      44.18692   \n",
       "4      48.93135      203.3777      85.59017      204.5952      42.68003   \n",
       "5      48.94892      202.3287      85.07886      202.4586      38.04674   \n",
       "6      48.99221      201.5448      84.71581      201.0713      35.23038   \n",
       "7      49.18085      201.1090      84.17529      200.4424      33.57787   \n",
       "8      49.43836      201.1063      83.36790      199.6805      32.06783   \n",
       "9      49.79055      201.8538      82.53721      199.1181      32.01506   \n",
       "\n",
       "    Elbow Pos Z   Grab Strenth   Grab Angle   Pinch Strength  \n",
       "0      237.4553            0.0     0.206389              0.0  \n",
       "1      238.4482            0.0     0.243050              0.0  \n",
       "2      236.8544            0.0     0.281134              0.0  \n",
       "3      236.0927            0.0     0.277691              0.0  \n",
       "4      235.2896            0.0     0.283008              0.0  \n",
       "5      233.1001            0.0     0.281743              0.0  \n",
       "6      231.9385            0.0     0.274988              0.0  \n",
       "7      230.8575            0.0     0.283662              0.0  \n",
       "8      229.3652            0.0     0.305218              0.0  \n",
       "9      228.5434            0.0     0.351661              0.0  \n",
       "\n",
       "[10 rows x 22 columns]"
      ]
     },
     "execution_count": 3,
     "metadata": {},
     "output_type": "execute_result"
    }
   ],
   "source": [
    "df_hand = pd.read_csv('HandRight.csv')\n",
    "df_hand.head(10)"
   ]
  },
  {
   "cell_type": "code",
   "execution_count": 4,
   "metadata": {},
   "outputs": [
    {
     "name": "stdout",
     "output_type": "stream",
     "text": [
      "<class 'pandas.core.frame.DataFrame'>\n",
      "RangeIndex: 4812 entries, 0 to 4811\n",
      "Data columns (total 22 columns):\n",
      " #   Column           Non-Null Count  Dtype  \n",
      "---  ------           --------------  -----  \n",
      " 0   Time             4812 non-null   float64\n",
      " 1    Frame ID        4812 non-null   int64  \n",
      " 2    Hand Type       4812 non-null   object \n",
      " 3    # hands         4812 non-null   int64  \n",
      " 4    Position X      4812 non-null   float64\n",
      " 5    Position Y      4812 non-null   float64\n",
      " 6    Position Z      4812 non-null   float64\n",
      " 7    Velocity X      4812 non-null   float64\n",
      " 8    Velocity Y      4812 non-null   float64\n",
      " 9    Velocity Z      4812 non-null   float64\n",
      " 10   Pitch           4812 non-null   float64\n",
      " 11   Roll            4812 non-null   float64\n",
      " 12   Yaw             4812 non-null   float64\n",
      " 13   Wrist Pos X     4428 non-null   float64\n",
      " 14   Wrist Pos Y     4428 non-null   float64\n",
      " 15   Wrist Pos Z     4428 non-null   float64\n",
      " 16   Elbow pos X     4428 non-null   float64\n",
      " 17   Elbow Pos Y     4428 non-null   float64\n",
      " 18   Elbow Pos Z     4428 non-null   float64\n",
      " 19   Grab Strenth    4812 non-null   float64\n",
      " 20   Grab Angle      4812 non-null   float64\n",
      " 21   Pinch Strength  4812 non-null   float64\n",
      "dtypes: float64(19), int64(2), object(1)\n",
      "memory usage: 827.2+ KB\n"
     ]
    }
   ],
   "source": [
    "df_hand.info()"
   ]
  },
  {
   "cell_type": "markdown",
   "metadata": {},
   "source": [
    "### Before we start modeling the data, we are going to create some functions that wiil help us combining the multi-data and sort it"
   ]
  },
  {
   "cell_type": "code",
   "execution_count": 5,
   "metadata": {},
   "outputs": [],
   "source": [
    "#function that combining all the data from each 5 rows to one row\n",
    "def combine(df_hands):\n",
    "    col = df_hands.columns\n",
    "    df_hands = df_hands.groupby(df_hands.index//5)[col].apply(lambda x: pd.DataFrame(x.values)).unstack().reset_index()\n",
    "    df_hands.columns = df_hands.columns.droplevel()\n",
    "    new_col = [\"Index\"]\n",
    "    for colmn in col:\n",
    "        for i in range(5):\n",
    "            new_col.append(colmn+str(i)) \n",
    "        \n",
    "    df_hands.columns = new_col\n",
    "    drop_feat = [\"Index\"]\n",
    "    df_features = [\"Time\",\"Frame ID\",\"Hand Type\",\"# hands\",\"label\"]\n",
    "    for feat in df_features:\n",
    "        for i in new_col:\n",
    "            if feat in i:\n",
    "                df_hands[feat] = df_hands[i]\n",
    "                drop_feat.append(i)\n",
    "    df_hands = df_hands.drop(drop_feat,axis=1)\n",
    "    numb = [x for x in df_hands.columns if x not in df_features]\n",
    "    df_hands[numb] = df_hands[numb].apply(pd.to_numeric)\n",
    "    return df_hands"
   ]
  },
  {
   "cell_type": "code",
   "execution_count": 6,
   "metadata": {},
   "outputs": [],
   "source": [
    "#function that tells us what is the current status of the hand, between the 3 options\n",
    "def hand_mode (filename) :\n",
    "    if 'Spontan' in filename:\n",
    "        label = 1\n",
    "    elif 'Sync' in filename:\n",
    "        label = 2\n",
    "    else:\n",
    "        label = 3\n",
    "    return label"
   ]
  },
  {
   "cell_type": "code",
   "execution_count": 7,
   "metadata": {},
   "outputs": [],
   "source": [
    "#function to label the alone status to number 3\n",
    "def hand_file(df):\n",
    "    alone = pd.read_csv(r\"HandRight.csv\",index_col=None, header=0)\n",
    "    alone.rename(columns=lambda x: x.strip(), inplace=True)\n",
    "    alone[\"label\"] = 3\n",
    "    return df"
   ]
  },
  {
   "cell_type": "code",
   "execution_count": 8,
   "metadata": {},
   "outputs": [],
   "source": [
    "#function to combine all the training data\n",
    "def merge_df(path):\n",
    "    files = glob.glob(path)\n",
    "    temp =[]\n",
    "    for name in files:\n",
    "        df=pd.read_csv(name, index_col=None,header =0)\n",
    "        df.rename(columns=lambda x: x.strip(), inplace=True)        \n",
    "        df['label'] = hand_mode(name)\n",
    "        skip7 = df[\"Time\"].min()\n",
    "        df = df[df[\"Time\"]>skip7+7]\n",
    "        df = combine(df)\n",
    "        df[\"Time\"] = df[\"Time\"].astype(\"float\")\n",
    "        df = df[df['label'].notna()]\n",
    "        df[\"label\"] = df[\"label\"].astype(\"int\")\n",
    "        temp.append(df)\n",
    "        \n",
    "    df = pd.concat(temp, axis=0, ignore_index=True)\n",
    "    df = hand_file(df)\n",
    "\n",
    "    return df\n",
    "        "
   ]
  },
  {
   "cell_type": "markdown",
   "metadata": {},
   "source": [
    "## Now we can have a look on the training data :"
   ]
  },
  {
   "cell_type": "code",
   "execution_count": 9,
   "metadata": {},
   "outputs": [],
   "source": [
    "df_hand = merge_df(r\"Training/*/*.csv\")\n"
   ]
  },
  {
   "cell_type": "code",
   "execution_count": 10,
   "metadata": {},
   "outputs": [
    {
     "data": {
      "text/html": [
       "<div>\n",
       "<style scoped>\n",
       "    .dataframe tbody tr th:only-of-type {\n",
       "        vertical-align: middle;\n",
       "    }\n",
       "\n",
       "    .dataframe tbody tr th {\n",
       "        vertical-align: top;\n",
       "    }\n",
       "\n",
       "    .dataframe thead th {\n",
       "        text-align: right;\n",
       "    }\n",
       "</style>\n",
       "<table border=\"1\" class=\"dataframe\">\n",
       "  <thead>\n",
       "    <tr style=\"text-align: right;\">\n",
       "      <th></th>\n",
       "      <th>Position X0</th>\n",
       "      <th>Position X1</th>\n",
       "      <th>Position X2</th>\n",
       "      <th>Position X3</th>\n",
       "      <th>Position X4</th>\n",
       "      <th>Position Y0</th>\n",
       "      <th>Position Y1</th>\n",
       "      <th>Position Y2</th>\n",
       "      <th>Position Y3</th>\n",
       "      <th>Position Y4</th>\n",
       "      <th>...</th>\n",
       "      <th>Pinch Strength0</th>\n",
       "      <th>Pinch Strength1</th>\n",
       "      <th>Pinch Strength2</th>\n",
       "      <th>Pinch Strength3</th>\n",
       "      <th>Pinch Strength4</th>\n",
       "      <th>Time</th>\n",
       "      <th>Frame ID</th>\n",
       "      <th>Hand Type</th>\n",
       "      <th># hands</th>\n",
       "      <th>label</th>\n",
       "    </tr>\n",
       "  </thead>\n",
       "  <tbody>\n",
       "    <tr>\n",
       "      <th>0</th>\n",
       "      <td>139.921500</td>\n",
       "      <td>-86.268200</td>\n",
       "      <td>140.093400</td>\n",
       "      <td>-86.120670</td>\n",
       "      <td>139.89500</td>\n",
       "      <td>142.9810</td>\n",
       "      <td>159.8984</td>\n",
       "      <td>145.8128</td>\n",
       "      <td>156.7520</td>\n",
       "      <td>150.4181</td>\n",
       "      <td>...</td>\n",
       "      <td>0.0</td>\n",
       "      <td>0.0</td>\n",
       "      <td>0.0</td>\n",
       "      <td>0.0</td>\n",
       "      <td>0.0</td>\n",
       "      <td>514.8203</td>\n",
       "      <td>59870</td>\n",
       "      <td>right</td>\n",
       "      <td>2</td>\n",
       "      <td>2</td>\n",
       "    </tr>\n",
       "    <tr>\n",
       "      <th>1</th>\n",
       "      <td>-77.758280</td>\n",
       "      <td>158.768700</td>\n",
       "      <td>-67.974620</td>\n",
       "      <td>157.497300</td>\n",
       "      <td>-60.75848</td>\n",
       "      <td>199.2576</td>\n",
       "      <td>374.5143</td>\n",
       "      <td>188.8687</td>\n",
       "      <td>358.0256</td>\n",
       "      <td>181.2316</td>\n",
       "      <td>...</td>\n",
       "      <td>0.0</td>\n",
       "      <td>0.0</td>\n",
       "      <td>0.0</td>\n",
       "      <td>0.0</td>\n",
       "      <td>0.0</td>\n",
       "      <td>293.4525</td>\n",
       "      <td>21824</td>\n",
       "      <td>left</td>\n",
       "      <td>2</td>\n",
       "      <td>1</td>\n",
       "    </tr>\n",
       "    <tr>\n",
       "      <th>2</th>\n",
       "      <td>102.007400</td>\n",
       "      <td>-155.744000</td>\n",
       "      <td>102.092700</td>\n",
       "      <td>-153.339400</td>\n",
       "      <td>102.43240</td>\n",
       "      <td>211.5632</td>\n",
       "      <td>216.3669</td>\n",
       "      <td>213.2382</td>\n",
       "      <td>215.9918</td>\n",
       "      <td>215.7043</td>\n",
       "      <td>...</td>\n",
       "      <td>0.0</td>\n",
       "      <td>0.0</td>\n",
       "      <td>0.0</td>\n",
       "      <td>0.0</td>\n",
       "      <td>0.0</td>\n",
       "      <td>715.6052</td>\n",
       "      <td>82553</td>\n",
       "      <td>right</td>\n",
       "      <td>2</td>\n",
       "      <td>2</td>\n",
       "    </tr>\n",
       "    <tr>\n",
       "      <th>3</th>\n",
       "      <td>-1.220255</td>\n",
       "      <td>-3.577221</td>\n",
       "      <td>-6.572386</td>\n",
       "      <td>-9.855152</td>\n",
       "      <td>-13.73216</td>\n",
       "      <td>152.0065</td>\n",
       "      <td>157.9938</td>\n",
       "      <td>161.2737</td>\n",
       "      <td>164.2427</td>\n",
       "      <td>170.3673</td>\n",
       "      <td>...</td>\n",
       "      <td>0.0</td>\n",
       "      <td>0.0</td>\n",
       "      <td>0.0</td>\n",
       "      <td>0.0</td>\n",
       "      <td>0.0</td>\n",
       "      <td>299.6757</td>\n",
       "      <td>35119</td>\n",
       "      <td>left</td>\n",
       "      <td>1</td>\n",
       "      <td>3</td>\n",
       "    </tr>\n",
       "    <tr>\n",
       "      <th>4</th>\n",
       "      <td>158.041400</td>\n",
       "      <td>-85.952980</td>\n",
       "      <td>163.212100</td>\n",
       "      <td>-83.255180</td>\n",
       "      <td>167.90390</td>\n",
       "      <td>193.6770</td>\n",
       "      <td>211.9225</td>\n",
       "      <td>192.4229</td>\n",
       "      <td>208.8840</td>\n",
       "      <td>191.8533</td>\n",
       "      <td>...</td>\n",
       "      <td>0.0</td>\n",
       "      <td>0.0</td>\n",
       "      <td>0.0</td>\n",
       "      <td>0.0</td>\n",
       "      <td>0.0</td>\n",
       "      <td>163.0895</td>\n",
       "      <td>108639</td>\n",
       "      <td>right</td>\n",
       "      <td>2</td>\n",
       "      <td>2</td>\n",
       "    </tr>\n",
       "  </tbody>\n",
       "</table>\n",
       "<p>5 rows × 95 columns</p>\n",
       "</div>"
      ],
      "text/plain": [
       "   Position X0  Position X1  Position X2  Position X3  Position X4  \\\n",
       "0   139.921500   -86.268200   140.093400   -86.120670    139.89500   \n",
       "1   -77.758280   158.768700   -67.974620   157.497300    -60.75848   \n",
       "2   102.007400  -155.744000   102.092700  -153.339400    102.43240   \n",
       "3    -1.220255    -3.577221    -6.572386    -9.855152    -13.73216   \n",
       "4   158.041400   -85.952980   163.212100   -83.255180    167.90390   \n",
       "\n",
       "   Position Y0  Position Y1  Position Y2  Position Y3  Position Y4  ...  \\\n",
       "0     142.9810     159.8984     145.8128     156.7520     150.4181  ...   \n",
       "1     199.2576     374.5143     188.8687     358.0256     181.2316  ...   \n",
       "2     211.5632     216.3669     213.2382     215.9918     215.7043  ...   \n",
       "3     152.0065     157.9938     161.2737     164.2427     170.3673  ...   \n",
       "4     193.6770     211.9225     192.4229     208.8840     191.8533  ...   \n",
       "\n",
       "   Pinch Strength0  Pinch Strength1  Pinch Strength2  Pinch Strength3  \\\n",
       "0              0.0              0.0              0.0              0.0   \n",
       "1              0.0              0.0              0.0              0.0   \n",
       "2              0.0              0.0              0.0              0.0   \n",
       "3              0.0              0.0              0.0              0.0   \n",
       "4              0.0              0.0              0.0              0.0   \n",
       "\n",
       "   Pinch Strength4      Time  Frame ID  Hand Type  # hands  label  \n",
       "0              0.0  514.8203     59870      right        2      2  \n",
       "1              0.0  293.4525     21824       left        2      1  \n",
       "2              0.0  715.6052     82553      right        2      2  \n",
       "3              0.0  299.6757     35119       left        1      3  \n",
       "4              0.0  163.0895    108639      right        2      2  \n",
       "\n",
       "[5 rows x 95 columns]"
      ]
     },
     "execution_count": 10,
     "metadata": {},
     "output_type": "execute_result"
    }
   ],
   "source": [
    "df_hand = df_hand.sample(frac=1).reset_index(drop=True)\n",
    "\n",
    "df_hand.head()"
   ]
  },
  {
   "cell_type": "markdown",
   "metadata": {},
   "source": [
    "# Train & Test\n",
    "## Before the modeling we will split the data to train and test sets"
   ]
  },
  {
   "cell_type": "code",
   "execution_count": 11,
   "metadata": {},
   "outputs": [],
   "source": [
    "status = df_hand[\"label\"]\n",
    "x = df_hand.drop([\"Hand Type\",\"# hands\",\"Time\", \"Frame ID\", \"label\"], axis =1)\n",
    "\n",
    "x_train, x_test, y_train, y_test = train_test_split(x, status, test_size=0.33, random_state=42)\n"
   ]
  },
  {
   "cell_type": "markdown",
   "metadata": {},
   "source": [
    "# Models:"
   ]
  },
  {
   "cell_type": "markdown",
   "metadata": {},
   "source": [
    "## Logistic Regression"
   ]
  },
  {
   "cell_type": "code",
   "execution_count": 37,
   "metadata": {},
   "outputs": [
    {
     "name": "stdout",
     "output_type": "stream",
     "text": [
      "Logistic Regression \n",
      "\n",
      "F1 score:  0.7659108175066724\n",
      "Accuracy score: 0.7658371611730856\n",
      "Confusion matrix: \n",
      " [[5638 2282   40]\n",
      " [2170 5893   46]\n",
      " [  50   51 3641]]\n",
      "              precision    recall  f1-score   support\n",
      "\n",
      "           1       0.72      0.71      0.71      7960\n",
      "           2       0.72      0.73      0.72      8109\n",
      "           3       0.98      0.97      0.97      3742\n",
      "\n",
      "    accuracy                           0.77     19811\n",
      "   macro avg       0.80      0.80      0.80     19811\n",
      "weighted avg       0.77      0.77      0.77     19811\n",
      "\n",
      "Cross Validation Scores: [0.76230129 0.76678445 0.75946492 0.76552246 0.77082282]\n",
      "Cross Validation Scores Mean: 0.7649791872141896 \n",
      "\n"
     ]
    }
   ],
   "source": [
    "lr = LogisticRegression(random_state=0)\n",
    "lr.fit(x_train,y_train)\n",
    "lr_pred = lr.predict(x_test)\n",
    "lr_f1 = metrics.f1_score(y_test, lr_pred, average= \"weighted\")\n",
    "lr_accuracy = metrics.accuracy_score(y_test, lr_pred)\n",
    "lr_cm = metrics.confusion_matrix(y_test, lr_pred)\n",
    "print(\"Logistic Regression\",\"\\n\")\n",
    "print(\"F1 score: \",lr_f1)\n",
    "print(\"Accuracy score:\",lr_accuracy)\n",
    "print(\"Confusion matrix: \\n\", lr_cm)\n",
    "print(metrics.classification_report(y_test, lr_pred))\n",
    "kf = KFold(n_splits=5,shuffle=True, random_state=123)\n",
    "cv_scores = cross_val_score(lr, x_test, y_test, cv=kf)\n",
    "print(\"Cross Validation Scores:\", cv_scores)\n",
    "print(\"Cross Validation Scores Mean:\", cv_scores.mean(),\"\\n\")"
   ]
  },
  {
   "cell_type": "markdown",
   "metadata": {},
   "source": [
    "## Naive Bayes"
   ]
  },
  {
   "cell_type": "code",
   "execution_count": 40,
   "metadata": {},
   "outputs": [
    {
     "name": "stdout",
     "output_type": "stream",
     "text": [
      "Naive Bayes \n",
      "\n",
      "F1 score: 0.7117930498640502\n",
      "Accuracy score: 0.7127858260562314\n",
      "Confusion matrix: \n",
      " [[4407 3529   24]\n",
      " [1675 6406   28]\n",
      " [  72  362 3308]]\n",
      "              precision    recall  f1-score   support\n",
      "\n",
      "           1       0.72      0.55      0.62      7960\n",
      "           2       0.62      0.79      0.70      8109\n",
      "           3       0.98      0.88      0.93      3742\n",
      "\n",
      "    accuracy                           0.71     19811\n",
      "   macro avg       0.77      0.74      0.75     19811\n",
      "weighted avg       0.73      0.71      0.71     19811\n",
      "\n",
      "Cross Validation Scores: [0.72823618 0.727158   0.71302373 0.72261484 0.71100454]\n",
      "Cross Validation Scores Mean: 0.7204074590517562 \n",
      "\n"
     ]
    }
   ],
   "source": [
    "from sklearn.naive_bayes import GaussianNB\n",
    "\n",
    "nb=GaussianNB()\n",
    "nb.fit(x_train,y_train)\n",
    "nb_pred = nb.predict(x_test)\n",
    "nb_f1 = metrics.f1_score(y_test, nb_pred, average= \"weighted\")\n",
    "nb_accuracy = metrics.accuracy_score(y_test, nb_pred)\n",
    "nb_cm = metrics.confusion_matrix(y_test, nb_pred)\n",
    "print(\"Naive Bayes\",\"\\n\")\n",
    "print(\"F1 score:\",nb_f1)\n",
    "print(\"Accuracy score:\",nb_accuracy)\n",
    "print(\"Confusion matrix: \\n\", nb_cm)\n",
    "print(metrics.classification_report(y_test, nb_pred))\n",
    "kf = KFold(n_splits=5,shuffle=True, random_state=123)\n",
    "cv_scores = cross_val_score(nb,x_test,y_test,cv=kf)\n",
    "print(\"Cross Validation Scores:\", cv_scores)\n",
    "print(\"Cross Validation Scores Mean:\", cv_scores.mean(),\"\\n\")"
   ]
  },
  {
   "cell_type": "markdown",
   "metadata": {},
   "source": [
    "## KNN"
   ]
  },
  {
   "cell_type": "markdown",
   "metadata": {},
   "source": [
    "### First we will find the best k to work with by plotting the k values"
   ]
  },
  {
   "cell_type": "code",
   "execution_count": 62,
   "metadata": {},
   "outputs": [
    {
     "data": {
      "image/png": "[encoded data removed]",
      "text/plain": [
       "<Figure size 432x288 with 1 Axes>"
      ]
     },
     "metadata": {
      "needs_background": "light"
     },
     "output_type": "display_data"
    }
   ],
   "source": [
    "scores = []\n",
    "for i in range(1,10):\n",
    "    k = KNeighborsClassifier(n_neighbors=i)\n",
    "    k.fit(x_train, y_train)\n",
    "    scores.append(k.score(x_test,y_test))\n",
    "\n",
    "plt.plot(range(1,10),scores)\n",
    "plt.xlabel('K value', fontweight=\"bold\")\n",
    "plt.ylabel('Accuracy', fontweight=\"bold\")\n",
    "plt.show()"
   ]
  },
  {
   "cell_type": "code",
   "execution_count": 42,
   "metadata": {},
   "outputs": [
    {
     "name": "stdout",
     "output_type": "stream",
     "text": [
      "KNN\n",
      "F1 score: 0.9027520365465315\n",
      "Accuracy score:  0.9029327141487052\n",
      "Confusion matrix: \n",
      " [[6782 1157   21]\n",
      " [ 704 7380   25]\n",
      " [   8    8 3726]]\n",
      "              precision    recall  f1-score   support\n",
      "\n",
      "           1       0.90      0.85      0.88      7960\n",
      "           2       0.86      0.91      0.89      8109\n",
      "           3       0.99      1.00      0.99      3742\n",
      "\n",
      "    accuracy                           0.90     19811\n",
      "   macro avg       0.92      0.92      0.92     19811\n",
      "weighted avg       0.90      0.90      0.90     19811\n",
      "\n",
      "Cross Validation Scores: [0.8667676  0.86572438 0.8639576  0.86774356 0.85562847]\n",
      "Cross Validation Scores Mean: 0.8639643226854972 \n",
      "\n"
     ]
    }
   ],
   "source": [
    "knn = KNeighborsClassifier(n_neighbors=4, weights=\"distance\")\n",
    "knn.fit(x_train, y_train)\n",
    "knn_pred = knn.predict(x_test)\n",
    "knn_f1 = metrics.f1_score(y_test, knn_pred, average= \"weighted\")\n",
    "knn_accuracy = metrics.accuracy_score(y_test, knn_pred)\n",
    "knn_cm = metrics.confusion_matrix(y_test, knn_pred)\n",
    "print(\"KNN\")\n",
    "print(\"F1 score:\",knn_f1)\n",
    "print(\"Accuracy score: \",knn_accuracy)\n",
    "print(\"Confusion matrix: \\n\", knn_cm)\n",
    "print(metrics.classification_report(y_test, knn_pred))\n",
    "kf = KFold(n_splits=5,shuffle=True, random_state=123)\n",
    "cv_scores = cross_val_score(knn,x_test,y_test,cv=kf)\n",
    "print(\"Cross Validation Scores:\", cv_scores)\n",
    "print(\"Cross Validation Scores Mean:\", cv_scores.mean(),\"\\n\")"
   ]
  },
  {
   "cell_type": "markdown",
   "metadata": {},
   "source": [
    "## Random Forest:"
   ]
  },
  {
   "cell_type": "code",
   "execution_count": 28,
   "metadata": {},
   "outputs": [
    {
     "name": "stdout",
     "output_type": "stream",
     "text": [
      "Random Forest\n",
      "F1 score: 0.7728105671745727\n",
      "Accuracy score:  0.775983039725405\n",
      "Confusion matrix: \n",
      " [[6749 1181   30]\n",
      " [3156 4926   27]\n",
      " [  34   10 3698]]\n",
      "              precision    recall  f1-score   support\n",
      "\n",
      "           1       0.68      0.85      0.75      7960\n",
      "           2       0.81      0.61      0.69      8109\n",
      "           3       0.98      0.99      0.99      3742\n",
      "\n",
      "    accuracy                           0.78     19811\n",
      "   macro avg       0.82      0.81      0.81     19811\n",
      "weighted avg       0.79      0.78      0.77     19811\n",
      "\n",
      "Cross Validation Scores: [0.7882917  0.76047451 0.78016153 0.78319031 0.76476527]\n",
      "Cross Validation Scores Mean: 0.7753766637204337 \n",
      "\n"
     ]
    }
   ],
   "source": [
    "rf=RandomForestClassifier(n_estimators = 100, random_state = 123, max_depth=2)\n",
    "rf.fit(x_train,y_train)\n",
    "rf_pred = rf.predict(x_test)\n",
    "rf_f1 = metrics.f1_score(y_test, rf_pred, average= \"weighted\")\n",
    "rf_accuracy = metrics.accuracy_score(y_test, rf_pred)\n",
    "rf_cm = metrics.confusion_matrix(y_test, rf_pred)\n",
    "print(\"Random Forest\")\n",
    "print(\"F1 score:\",rf_f1)\n",
    "print(\"Accuracy score: \",rf_accuracy)\n",
    "print(\"Confusion matrix: \\n\", rf_cm)\n",
    "print(metrics.classification_report(y_test, rf_pred))\n",
    "kf = KFold(n_splits=5,shuffle=True, random_state=123)\n",
    "cv_scores = cross_val_score(rf,x_test,y_test,cv=kf)\n",
    "print(\"Cross Validation Scores:\", cv_scores)\n",
    "print(\"Cross Validation Scores Mean:\", cv_scores.mean(),\"\\n\")"
   ]
  },
  {
   "cell_type": "markdown",
   "metadata": {},
   "source": [
    "## Decision Tree"
   ]
  },
  {
   "cell_type": "code",
   "execution_count": 63,
   "metadata": {},
   "outputs": [
    {
     "name": "stdout",
     "output_type": "stream",
     "text": [
      "Decision Tree\n",
      "F1 score:  0.9010646198057722\n",
      "Accuracy score:  0.9010650648629549\n",
      "Confusion matrix: \n",
      " [[6996  935   29]\n",
      " [ 931 7160   18]\n",
      " [  28   19 3695]]\n",
      "              precision    recall  f1-score   support\n",
      "\n",
      "           1       0.88      0.88      0.88      7960\n",
      "           2       0.88      0.88      0.88      8109\n",
      "           3       0.99      0.99      0.99      3742\n",
      "\n",
      "    accuracy                           0.90     19811\n",
      "   macro avg       0.92      0.92      0.92     19811\n",
      "weighted avg       0.90      0.90      0.90     19811\n",
      "\n",
      "Cross Validation Scores: [0.85213222 0.86521959 0.86572438 0.87985866 0.85562847]\n",
      "Cross Validation Scores Mean: 0.8637126636939392 \n",
      "\n"
     ]
    }
   ],
   "source": [
    "from sklearn.tree import DecisionTreeClassifier\n",
    "\n",
    "dt=DecisionTreeClassifier()\n",
    "dt.fit(x_train,y_train)\n",
    "dt_pred = dt.predict(x_test)\n",
    "dt_f1 = metrics.f1_score(y_test, dt_pred, average= \"weighted\")\n",
    "dt_accuracy = metrics.accuracy_score(y_test, dt_pred)\n",
    "dt_cm = metrics.confusion_matrix(y_test, dt_pred)\n",
    "print(\"Decision Tree\")\n",
    "print(\"F1 score: \",dt_f1)\n",
    "print(\"Accuracy score: \",dt_accuracy)\n",
    "print(\"Confusion matrix: \\n\", dt_cm)\n",
    "print(metrics.classification_report(y_test, dt_pred))\n",
    "kf = KFold(n_splits=5,shuffle=True, random_state=123)\n",
    "cv_scores = cross_val_score(dt,x_test,y_test,cv=kf)\n",
    "print(\"Cross Validation Scores:\", cv_scores)\n",
    "print(\"Cross Validation Scores Mean:\", cv_scores.mean(),\"\\n\")"
   ]
  },
  {
   "cell_type": "code",
   "execution_count": 69,
   "metadata": {},
   "outputs": [
    {
     "data": {
      "text/plain": [
       "Text(0.5, 1.07, 'Decision Tree Heatmap')"
      ]
     },
     "execution_count": 69,
     "metadata": {},
     "output_type": "execute_result"
    },
    {
     "data": {
      "image/png": "[encoded data removed]",
      "text/plain": [
       "<Figure size 432x288 with 2 Axes>"
      ]
     },
     "metadata": {
      "needs_background": "light"
     },
     "output_type": "display_data"
    }
   ],
   "source": [
    "ax=sns.heatmap(confusion_matrix(y_test, dt_pred), cmap=\"OrRd\",annot=True, fmt=\"d\")\n",
    "ax.set(ylim=(0, 3))\n",
    "plt.ylabel('Current label', size = 12)\n",
    "plt.xlabel('Predicted label', size = 12)\n",
    "plt.title('Decision Tree Heatmap', size = 15, y=1.07, fontweight=\"bold\")"
   ]
  },
  {
   "cell_type": "markdown",
   "metadata": {},
   "source": [
    "# Validation"
   ]
  },
  {
   "cell_type": "markdown",
   "metadata": {},
   "source": [
    "## After we chose the models and got the scores, we wiil move on to test the Validation data"
   ]
  },
  {
   "cell_type": "code",
   "execution_count": 25,
   "metadata": {},
   "outputs": [],
   "source": [
    "df_test =merge_df(\"Validation/*/*.csv\")\n",
    "df_test =df_test.dropna()\n",
    "stats = df_test[\"label\"]\n",
    "x = df_test.drop([\"Hand Type\",\"# hands\",\"Time\", \"Frame ID\", \"label\"], axis =1)\n",
    "kfold = StratifiedKFold(n_splits=10, shuffle=True, random_state=93)\n",
    "\n"
   ]
  },
  {
   "cell_type": "markdown",
   "metadata": {},
   "source": [
    "## Comparing the accuracy success chance at each model"
   ]
  },
  {
   "cell_type": "code",
   "execution_count": 39,
   "metadata": {},
   "outputs": [
    {
     "name": "stdout",
     "output_type": "stream",
     "text": [
      "Logistic Regression:\n",
      "0.78%\n"
     ]
    }
   ],
   "source": [
    "print (\"Logistic Regression:\")\n",
    "print (\"%.2f%%\" % (np.mean(cross_val_score(lr, x, stats, cv=kfold))))"
   ]
  },
  {
   "cell_type": "code",
   "execution_count": 41,
   "metadata": {},
   "outputs": [
    {
     "name": "stdout",
     "output_type": "stream",
     "text": [
      "Naive Bayes :\n",
      "0.74%\n"
     ]
    }
   ],
   "source": [
    "print(\"Naive Bayes :\")\n",
    "print(\"%.2f%%\" % (np.mean(cross_val_score(nb, x, stats, cv=kfold,n_jobs=-1))))"
   ]
  },
  {
   "cell_type": "code",
   "execution_count": 43,
   "metadata": {},
   "outputs": [
    {
     "name": "stdout",
     "output_type": "stream",
     "text": [
      "KNN:\n",
      "0.95%\n"
     ]
    }
   ],
   "source": [
    "print (\"KNN:\")\n",
    "print(\"%.2f%%\" % (np.mean(cross_val_score(knn, x, stats, cv=kfold,n_jobs=-1))))"
   ]
  },
  {
   "cell_type": "code",
   "execution_count": 35,
   "metadata": {},
   "outputs": [
    {
     "name": "stdout",
     "output_type": "stream",
     "text": [
      "Random Forest :\n",
      "0.79%\n"
     ]
    }
   ],
   "source": [
    "print(\"Random Forest :\")\n",
    "print(\"%.2f%%\" % (np.mean(cross_val_score(rf, x, stats, cv=kfold,n_jobs=-1))))"
   ]
  },
  {
   "cell_type": "code",
   "execution_count": 44,
   "metadata": {},
   "outputs": [
    {
     "name": "stdout",
     "output_type": "stream",
     "text": [
      "Decision Tree :\n",
      "0.93%\n"
     ]
    }
   ],
   "source": [
    "print(\"Decision Tree :\")\n",
    "print(\"%.2f%%\" % (np.mean(cross_val_score(dt, x, stats, cv=kfold,n_jobs=-1))))"
   ]
  },
  {
   "cell_type": "code",
   "execution_count": 60,
   "metadata": {},
   "outputs": [
    {
     "data": {
      "image/png": "[encoded data removed]",
      "text/plain": [
       "<Figure size 576x576 with 1 Axes>"
      ]
     },
     "metadata": {
      "needs_background": "light"
     },
     "output_type": "display_data"
    }
   ],
   "source": [
    "models = ['Logistic Regression', 'Naive Bayes','KNN','Random Forest','Decision Tree']\n",
    "test_score = [0.76,0.71,0.90,0.77,0.90]\n",
    "val_score = [0.78,0.74,0.95,0.79,0.93]\n",
    "\n",
    "label = np.arange(len(models))\n",
    "fig , ax =plt.subplots(figsize=(8,8))\n",
    "r1 = ax.bar(label - 0.35/2, test_score, 0.35, color='b')\n",
    "r2 = ax.bar(label + 0.35/2, val_score, 0.35, color='tomato')\n",
    "ax.set_title('Testing and Validation Score', fontweight=\"bold\")\n",
    "ax.set_ylabel('Accuaracy Success %')\n",
    "ax.set_xlabel('Model Name')\n",
    "ax.set_xticks(label)\n",
    "ax.set_xticklabels(models)\n",
    "plt.legend(['Testing Score', 'Validation'], loc='best')\n",
    "plt.xticks(rotation=45)\n",
    "\n",
    "def autolabel(rects):\n",
    "    for rect in rects:\n",
    "        height = rect.get_height()\n",
    "        ax.annotate('{}'.format(height),\n",
    "                    xy=(rect.get_x() + rect.get_width() / 2, height),\n",
    "                    xytext=(0, 3), \n",
    "                    textcoords=\"offset points\",\n",
    "                    ha='center', va='bottom')\n",
    "\n",
    "\n",
    "\n",
    "autolabel(r1)\n",
    "autolabel(r2)\n",
    "plt.tight_layout()\n",
    "plt.show()\n",
    "\n",
    "\n",
    "\n"
   ]
  },
  {
   "cell_type": "code",
   "execution_count": null,
   "metadata": {},
   "outputs": [],
   "source": []
  }
 ],
 "metadata": {
  "kernelspec": {
   "display_name": "Python 3",
   "language": "python",
   "name": "python3"
  },
  "language_info": {
   "codemirror_mode": {
    "name": "ipython",
    "version": 3
   },
   "file_extension": ".py",
   "mimetype": "text/x-python",
   "name": "python",
   "nbconvert_exporter": "python",
   "pygments_lexer": "ipython3",
   "version": "3.8.3"
  }
 },
 "nbformat": 4,
 "nbformat_minor": 4
}
